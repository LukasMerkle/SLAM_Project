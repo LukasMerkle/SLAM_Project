{
 "cells": [
  {
   "cell_type": "code",
   "execution_count": 1,
   "metadata": {},
   "outputs": [],
   "source": [
    "import numpy as np\n",
    "import matplotlib.pyplot as plt\n",
    "import math\n",
    "import copy\n",
    "import scipy.linalg"
   ]
  },
  {
   "cell_type": "code",
   "execution_count": 2,
   "metadata": {},
   "outputs": [],
   "source": [
    "def rot2D(theta):\n",
    "    return np.array([math.cos(theta), -math.sin(theta), math.sin(theta), math.cos(theta)]).reshape(2,2)\n",
    "\n",
    "def rot3D(theta):\n",
    "    o = np.eye(3)\n",
    "    o[:2,:2] = rot2D(theta)\n",
    "    return o\n",
    "\n",
    "def numeraical_jacobian(pos1, pos2, model):\n",
    "    eps = 1e-12\n",
    "    pos_H = []\n",
    "    neg_H = []\n",
    "    for i,x in enumerate(pos1):\n",
    "        v = copy.copy(pos1)\n",
    "        v[i] = x + eps\n",
    "        pos_H.append(model(v, pos2))\n",
    "    for i,x in enumerate(pos2):\n",
    "        v = copy.copy(pos2)\n",
    "        v[i] = x + eps\n",
    "        pos_H.append(model(pos1, v))\n",
    "\n",
    "    for i,x in enumerate(pos1):\n",
    "        v = copy.copy(pos1)\n",
    "        v[i] = x - eps\n",
    "        neg_H.append(model(v, pos2))\n",
    "    for i,x in enumerate(pos2):\n",
    "        v = copy.copy(pos2)\n",
    "        v[i] = x - eps\n",
    "        neg_H.append(model(pos1, v))\n",
    "        \n",
    "    H = (np.vstack(pos_H).T - np.vstack(neg_H).T) / (2*eps)\n",
    "    return H\n",
    "\n",
    "\n",
    "def odom_model(pos1, pos2):\n",
    "#     x1, y1, t1 = pos1\n",
    "#     x2, y2, t2 = pos2\n",
    "#     H = np.eye(3)\n",
    "#     R = rot2D(t2-t1)\n",
    "#     odom = pos2[:2] - np.dot(R, pos1[:2].reshape(-1,1)).reshape(-1,)\n",
    "    return pos2-pos1\n",
    "\n",
    "def odom_jacobian(pos1, pos2):\n",
    "    x1, y1, t1 = pos1\n",
    "    x2, y2, t2 = pos2\n",
    "#     H = np.array([[-math.cos(t2-t1), math.sin(t2-t1), -x1*math.sin(t2-t1) - y1*math.cos(t2-t1),\n",
    "#                   1, 0, +x1*math.sin(t2-t1) + y1*math.cos(t2-t1)],\n",
    "#                  [-math.sin(t2-t1), -math.cos(t2-t1), x1*math.cos(t2-t1) - y1*math.sin(t2-t1),\n",
    "#                   0, 1, -x1*math.cos(t2-t1) + y1*math.sin(t2-t1)],\n",
    "#                  [0, 0, -1, 0, 0, 1]])\n",
    "    H = np.zeros((3,6))\n",
    "    H[0,0] = -1\n",
    "    H[0,3] = 1\n",
    "    H[1,1] = -1\n",
    "    H[1,4] = 1\n",
    "    H[2,2] = -1\n",
    "    H[2,5] = 1\n",
    "    return H\n",
    "\n",
    "def measurement_model_w(pose_w, plane_w):\n",
    "    n_w = plane_w[:3].reshape(-1,1)\n",
    "    d_w = plane_w[-1]\n",
    "    x,y,theta = pose_w\n",
    "    h = np.array([x,y,1]).reshape(-1,1)\n",
    "    n_l = np.dot(rot3D(theta), n_w).reshape(-1,)\n",
    "    d_l = (np.dot(n_w.T, h) + d_w).reshape(-1,) / np.linalg.norm(n_w)\n",
    "    return np.hstack([n_l,d_l])\n",
    "\n",
    "# TODO: pass in normalized n\n",
    "def invert_measurement_l(pose_w, plane_l):\n",
    "    n_l = plane_l[:3].reshape(-1,1)\n",
    "    d_l = plane_l[-1]\n",
    "    x,y,theta = pose_w\n",
    "    h = np.array([x,y,1]).reshape(-1,1)\n",
    "    n_w = np.dot(rot3D(theta).T, n_l).reshape(-1,)\n",
    "    \n",
    "    d_w = (-np.dot(n_w.T, h) + d_l).reshape(-1,) \n",
    "    return np.hstack([n_w,d_w])\n",
    "\n",
    "def measurement_jacobian(pose, plane):\n",
    "    x,y,theta = pose\n",
    "    nx_w,ny_w,nz_w,d_w = plane\n",
    "    \n",
    "    H = np.array([[0, 0, -math.sin(theta)*nx_w - math.cos(theta)*ny_w, math.cos(theta), -math.sin(theta), 0, 0],\n",
    "                  [0 ,0, math.cos(theta)*nx_w - math.sin(theta)*ny_w, math.sin(theta), math.cos(theta), 0, 0],\n",
    "                  [0, 0, 0, 0, 0, 1, 0],\n",
    "                  [nx_w, ny_w, 0, x, y, 1, 1]]) # re-compute normalized jacobian\n",
    "    \n",
    "    return H"
   ]
  },
  {
   "cell_type": "code",
   "execution_count": 3,
   "metadata": {},
   "outputs": [],
   "source": [
    "x0 = np.array([0,0,0])\n",
    "x1 = np.array([2,3,np.deg2rad(45)])\n",
    "x2 = np.array([5,5,np.deg2rad(-45)])\n",
    "\n",
    "plane1 = np.array([0.707, 0.707, 0, 5])\n",
    "plane2 = np.array([-0.707, 0.707, 0, 2])\n",
    "\n",
    "gt = np.hstack([x0, x1, plane1, plane2])\n",
    "\n",
    "def odom_noise():\n",
    "    return np.hstack([np.random.normal(0, 0.5, 2), np.random.normal(0, 0.1, 1)])\n",
    "\n",
    "def measurement_noise():\n",
    "    return 0\n",
    "#     return np.random.normal(0,1, 4)"
   ]
  },
  {
   "cell_type": "code",
   "execution_count": 4,
   "metadata": {},
   "outputs": [],
   "source": [
    "odom1 = odom_model(x0,x1) + odom_noise()\n",
    "odom2 = odom_model(x1,x2) + odom_noise()\n",
    "\n",
    "measurement11 = measurement_model_w(x0, plane1) + measurement_noise()\n",
    "measurement12 = measurement_model_w(x0, plane2) + measurement_noise()\n",
    "measurement21 = measurement_model_w(x1, plane1) + measurement_noise()\n",
    "measurement22 = measurement_model_w(x1, plane2) + measurement_noise()\n",
    "landmark_measurements = np.hstack([measurement11,measurement12,measurement21,measurement22])"
   ]
  },
  {
   "cell_type": "code",
   "execution_count": 18,
   "metadata": {},
   "outputs": [],
   "source": [
    "std_x = np.array([0.1, 0.1, 0.05]) # x, y, theta\n",
    "std_l = np.array([0.1, 0.1, 0.1, 0.1]) # nx, ny, nz, d"
   ]
  },
  {
   "cell_type": "code",
   "execution_count": 6,
   "metadata": {},
   "outputs": [
    {
     "name": "stdout",
     "output_type": "stream",
     "text": [
      "[ 0.707       0.707       0.          5.00075517 -0.707       0.707\n",
      "  0.          2.00030207]\n",
      "[ 0.          0.          0.          1.81957119  2.60367803  0.68605272\n",
      "  0.707       0.707       0.          5.00075517 -0.707       0.707\n",
      "  0.          2.00030207]\n",
      "(22, 14) (22,) (14,)\n"
     ]
    }
   ],
   "source": [
    "s_x0 = x0\n",
    "s_l = np.hstack([invert_measurement_l(x0, measurement11), invert_measurement_l(x0,measurement12)])\n",
    "print(s_l)\n",
    "s_x1 = np.hstack([x0, x0+odom1])\n",
    "\n",
    "s = np.hstack([s_x1, s_l])\n",
    "print(s)\n",
    "def generateAB(s_x1, s_l, odom1, landmark_measurements, std_x, std_l):\n",
    "    A_x1 = np.zeros((6,14))\n",
    "    A_x1[:3,:3] = np.eye(3)\n",
    "    odom_jac = odom_jacobian(s_x1[0:3], s_x1[3:6])\n",
    "    A_x1[3:,:6] = odom_jac\n",
    "\n",
    "    A_l1 = np.zeros((16,14))\n",
    "    #measurement_jac1 = measurement_jacobian(s_x1[:3], s_l[:4])\n",
    "    measurement_jac1 = numeraical_jacobian(s_x1[:3], s_l[:4], measurement_model_w)\n",
    "    A_l1[:4,0:3] = measurement_jac1[:, 0:3]\n",
    "    A_l1[:4,6:10] = measurement_jac1[:, 3:7]\n",
    "    #measurement_jac2 = measurement_jacobian(s_x1[:3], s_l[4:])\n",
    "    measurement_jac2 = numeraical_jacobian(s_x1[:3], s_l[4:], measurement_model_w)\n",
    "    A_l1[4:8,0:3] = measurement_jac2[:, 0:3]\n",
    "    A_l1[4:8,10:14] = measurement_jac2[:, 3:7]\n",
    "\n",
    "    #measurement_jac1 = measurement_jacobian(s_x1[3:], s_l[:4])\n",
    "    measurement_jac1 = numeraical_jacobian(s_x1[3:], s_l[:4], measurement_model_w)\n",
    "    A_l1[8:12,3:6] = measurement_jac1[:, 0:3]\n",
    "    A_l1[8:12,6:10] = measurement_jac1[:, 3:7]\n",
    "    #measurement_jac2 = measurement_jacobian(s_x1[3:], s_l[4:])\n",
    "    measurement_jac2 = numeraical_jacobian(s_x1[3:], s_l[4:], measurement_model_w)\n",
    "    A_l1[12:16,3:6] = measurement_jac2[:, 0:3]\n",
    "    A_l1[12:16,10:14] = measurement_jac2[:, 3:7]\n",
    "\n",
    "    m_x1 = np.hstack([np.array([0,0,0]), odom1])\n",
    "    p_x1 = np.hstack([np.array([0,0,0]), odom_model(s_x1[:3], s_x1[3:])])\n",
    "    b_x1 = m_x1 - p_x1\n",
    "\n",
    "    m_l1 = landmark_measurements\n",
    "    p_l1 = np.hstack([measurement_model_w(s_x1[:3], s_l[:4]), measurement_model_w(s_x1[:3], s_l[4:8]),\n",
    "                      measurement_model_w(s_x1[3:6], s_l[:4]), measurement_model_w(s_x1[3:6], s_l[4:8])])\n",
    "    b_l1 = m_l1 - p_l1\n",
    "\n",
    "    A = np.vstack([A_x1, A_l1])\n",
    "    b = np.hstack([b_x1, b_l1])\n",
    "    return A,b\n",
    "\n",
    "A,b = generateAB(s_x1, s_l, odom1, landmark_measurements)\n",
    "print(A.shape, b.shape, s.shape)"
   ]
  },
  {
   "cell_type": "code",
   "execution_count": 7,
   "metadata": {},
   "outputs": [],
   "source": [
    "def gauss_newton(s, odom1, landmark_measurements, max_iter=1000):\n",
    "    for i in range(max_iter):\n",
    "        s_x1 = s[:6]\n",
    "        s_l = s[6:]\n",
    "        A,b = generateAB(s_x1, s_l, odom1, landmark_measurements)\n",
    "        dx = scipy.linalg.solve(np.dot(A.T,A),np.dot(A.T,b))\n",
    "        s_new = s + dx\n",
    "        _,b_new = generateAB(s_new[:6], s_new[6:], odom1, landmark_measurements)\n",
    "        if(np.linalg.norm(b_new) > np.linalg.norm(b)):\n",
    "            print(\"Error going up - breaking\", i)\n",
    "            break\n",
    "        s = s_new\n",
    "        if(np.linalg.norm(b_new - b) < 1e-12):\n",
    "            print(\"Converged\",i)\n",
    "            break\n",
    "    return s"
   ]
  },
  {
   "cell_type": "code",
   "execution_count": 16,
   "metadata": {},
   "outputs": [
    {
     "name": "stdout",
     "output_type": "stream",
     "text": [
      "Error going up - breaking 5\n",
      "[ 0.          0.          0.          1.81957119  2.60367803  0.68605272\n",
      "  0.707       0.707       0.          5.00075517 -0.707       0.707\n",
      "  0.          2.00030207]\n",
      "[ 0.     0.     0.022  1.896  2.712  0.758  0.683  0.729  0.     5.125\n",
      " -0.686  0.726  0.     2.017]\n",
      "[ 0.          0.          0.          2.          3.          0.78539816\n",
      "  0.707       0.707       0.          5.         -0.707       0.707\n",
      "  0.          2.        ]\n"
     ]
    }
   ],
   "source": [
    "out = gauss_newton(s, odom1, landmark_measurements)\n",
    "print(s)\n",
    "print(np.round(out,3))\n",
    "print(gt)"
   ]
  },
  {
   "cell_type": "code",
   "execution_count": 13,
   "metadata": {},
   "outputs": [
    {
     "name": "stdout",
     "output_type": "stream",
     "text": [
      "0.4466495727304946 0.33571930697534225\n"
     ]
    }
   ],
   "source": [
    "s_error = np.linalg.norm(gt-s)\n",
    "o_error = np.linalg.norm(gt-out)\n",
    "print(s_error, o_error)"
   ]
  },
  {
   "cell_type": "code",
   "execution_count": 14,
   "metadata": {},
   "outputs": [
    {
     "name": "stdout",
     "output_type": "stream",
     "text": [
      "[1.0000e-04 1.2000e-04 2.2160e-02 1.0447e-01 2.8751e-01 2.7460e-02]\n"
     ]
    }
   ],
   "source": [
    "print(np.round(abs(gt[:6]-out[:6]),5))"
   ]
  },
  {
   "cell_type": "code",
   "execution_count": 11,
   "metadata": {},
   "outputs": [
    {
     "name": "stdout",
     "output_type": "stream",
     "text": [
      "[0.      0.      0.      0.18043 0.39632 0.09935]\n"
     ]
    }
   ],
   "source": [
    "print(np.round(abs(gt[:6]-s[:6]),5))"
   ]
  },
  {
   "cell_type": "markdown",
   "metadata": {},
   "source": [
    "# TODO:\n",
    "- add standard deviations\n",
    "- recompute jacobian\n",
    "- Test: expect that if we trust landmarks a lot "
   ]
  }
 ],
 "metadata": {
  "kernelspec": {
   "display_name": "Python 3",
   "language": "python",
   "name": "python3"
  },
  "language_info": {
   "codemirror_mode": {
    "name": "ipython",
    "version": 3
   },
   "file_extension": ".py",
   "mimetype": "text/x-python",
   "name": "python",
   "nbconvert_exporter": "python",
   "pygments_lexer": "ipython3",
   "version": "3.6.5"
  }
 },
 "nbformat": 4,
 "nbformat_minor": 2
}
