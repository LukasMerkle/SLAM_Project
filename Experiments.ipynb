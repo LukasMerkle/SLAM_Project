{
 "cells": [
  {
   "cell_type": "code",
   "execution_count": 1,
   "metadata": {},
   "outputs": [],
   "source": [
    "import numpy as np\n",
    "import matplotlib.pyplot as plt\n",
    "import math\n",
    "import copy\n",
    "import scipy.linalg"
   ]
  },
  {
   "cell_type": "code",
   "execution_count": 2,
   "metadata": {},
   "outputs": [],
   "source": [
    "def rot2D(theta):\n",
    "    return np.array([math.cos(theta), -math.sin(theta), math.sin(theta), math.cos(theta)]).reshape(2,2)\n",
    "\n",
    "def rot3D(theta):\n",
    "    o = np.eye(3)\n",
    "    o[:2,:2] = rot2D(theta)\n",
    "    return o\n",
    "\n",
    "def numeraical_jacobian(pos1, pos2, model):\n",
    "    eps = 1e-12\n",
    "    pos_H = []\n",
    "    neg_H = []\n",
    "    for i,x in enumerate(pos1):\n",
    "        v = copy.copy(pos1)\n",
    "        v[i] = x + eps\n",
    "        pos_H.append(model(v, pos2))\n",
    "    for i,x in enumerate(pos2):\n",
    "        v = copy.copy(pos2)\n",
    "        v[i] = x + eps\n",
    "        pos_H.append(model(pos1, v))\n",
    "\n",
    "    for i,x in enumerate(pos1):\n",
    "        v = copy.copy(pos1)\n",
    "        v[i] = x - eps\n",
    "        neg_H.append(model(v, pos2))\n",
    "    for i,x in enumerate(pos2):\n",
    "        v = copy.copy(pos2)\n",
    "        v[i] = x - eps\n",
    "        neg_H.append(model(pos1, v))\n",
    "        \n",
    "    H = (np.vstack(pos_H).T - np.vstack(neg_H).T) / (2*eps)\n",
    "    return H\n",
    "\n",
    "\n",
    "def odom_model(pos1, pos2):\n",
    "#     x1, y1, t1 = pos1\n",
    "#     x2, y2, t2 = pos2\n",
    "#     H = np.eye(3)\n",
    "#     R = rot2D(t2-t1)\n",
    "#     odom = pos2[:2] - np.dot(R, pos1[:2].reshape(-1,1)).reshape(-1,)\n",
    "    return pos2-pos1\n",
    "\n",
    "def odom_jacobian(pos1, pos2):\n",
    "    x1, y1, t1 = pos1\n",
    "    x2, y2, t2 = pos2\n",
    "#     H = np.array([[-math.cos(t2-t1), math.sin(t2-t1), -x1*math.sin(t2-t1) - y1*math.cos(t2-t1),\n",
    "#                   1, 0, +x1*math.sin(t2-t1) + y1*math.cos(t2-t1)],\n",
    "#                  [-math.sin(t2-t1), -math.cos(t2-t1), x1*math.cos(t2-t1) - y1*math.sin(t2-t1),\n",
    "#                   0, 1, -x1*math.cos(t2-t1) + y1*math.sin(t2-t1)],\n",
    "#                  [0, 0, -1, 0, 0, 1]])\n",
    "    H = np.zeros((3,6))\n",
    "    H[0,0] = -1\n",
    "    H[0,3] = 1\n",
    "    H[1,1] = -1\n",
    "    H[1,4] = 1\n",
    "    H[2,2] = -1\n",
    "    H[2,5] = 1\n",
    "    return H\n",
    "\n",
    "def measurement_model_w(pose_w, plane_w):\n",
    "    n_w = plane_w[:3].reshape(-1,1)\n",
    "    d_w = plane_w[-1]\n",
    "    x,y,theta = pose_w\n",
    "    h = np.array([x,y,1]).reshape(-1,1)\n",
    "    n_l = np.dot(rot3D(theta), n_w).reshape(-1,)\n",
    "    d_l = (np.dot(n_w.T, h) + d_w).reshape(-1,) / np.linalg.norm(n_w)\n",
    "    return np.hstack([n_l,d_l])\n",
    "\n",
    "# TODO: pass in normalized n\n",
    "def invert_measurement_l(pose_w, plane_l):\n",
    "    n_l = plane_l[:3].reshape(-1,1)\n",
    "    d_l = plane_l[-1]\n",
    "    x,y,theta = pose_w\n",
    "    h = np.array([x,y,1]).reshape(-1,1)\n",
    "    n_w = np.dot(rot3D(theta).T, n_l).reshape(-1,)\n",
    "    \n",
    "    d_w = (-np.dot(n_w.T, h) + d_l).reshape(-1,) \n",
    "    return np.hstack([n_w,d_w])\n",
    "\n",
    "def measurement_jacobian(pose, plane):\n",
    "    x,y,theta = pose\n",
    "    nx_w,ny_w,nz_w,d_w = plane\n",
    "    \n",
    "    H = np.array([[0, 0, -math.sin(theta)*nx_w - math.cos(theta)*ny_w, math.cos(theta), -math.sin(theta), 0, 0],\n",
    "                  [0 ,0, math.cos(theta)*nx_w - math.sin(theta)*ny_w, math.sin(theta), math.cos(theta), 0, 0],\n",
    "                  [0, 0, 0, 0, 0, 1, 0],\n",
    "                  [nx_w, ny_w, 0, x, y, 1, 1]]) # re-compute normalized jacobian\n",
    "    \n",
    "    return H"
   ]
  },
  {
   "cell_type": "code",
   "execution_count": 3,
   "metadata": {},
   "outputs": [],
   "source": [
    "x0 = np.array([0,0,0])\n",
    "x1 = np.array([2,3,np.deg2rad(45)])\n",
    "x2 = np.array([5,5,np.deg2rad(-45)])\n",
    "\n",
    "plane1 = np.array([0.707, 0.707, 0, 5])\n",
    "plane2 = np.array([-0.707, 0.707, 0, 2])\n",
    "\n",
    "gt = np.hstack([x0, x1, plane1, plane2])\n",
    "\n",
    "def odom_noise():\n",
    "    return np.hstack([np.random.normal(0, 1, 2), np.random.normal(0, 0.1, 1)])\n",
    "\n",
    "def measurement_noise(std):\n",
    "    return np.random.normal(0,std, 4)"
   ]
  },
  {
   "cell_type": "code",
   "execution_count": 4,
   "metadata": {},
   "outputs": [],
   "source": [
    "odom1 = odom_model(x0,x1) + odom_noise()\n",
    "odom2 = odom_model(x1,x2) + odom_noise()\n",
    "\n",
    "measurement11 = measurement_model_w(x0, plane1) + measurement_noise(0)\n",
    "measurement12 = measurement_model_w(x0, plane2) + measurement_noise(0)\n",
    "measurement21 = measurement_model_w(x1, plane1) + measurement_noise(0)\n",
    "measurement22 = measurement_model_w(x1, plane2) + measurement_noise(0)\n",
    "landmark_measurements = np.hstack([measurement11, measurement12, measurement21, measurement22])\n",
    "\n",
    "n1 = plane1[:3] #+ np.random.normal(0,0.1, 3)\n",
    "#n1 /= np.linalg.norm(n1)\n",
    "#plane1[:3] = n1\n",
    "\n",
    "n2 = plane2[:3] #+ np.random.normal(0,0.1, 3)\n",
    "#n2 /= np.linalg.norm(n2)\n",
    "#plane2[:3] = n2\n",
    "\n",
    "init_measurement1 = measurement_model_w(x0, plane1)\n",
    "init_measurement2 = measurement_model_w(x0, plane2)\n"
   ]
  },
  {
   "cell_type": "code",
   "execution_count": 5,
   "metadata": {},
   "outputs": [],
   "source": [
    "#std_x = np.array([0.5, 0.5, 0.1]) # x, y, theta\n",
    "std_x = np.array([1, 1, .1]) # x, y, theta\n",
    "#std_l = np.array([1, 1, 1, 1]) # nx, ny, nz, d\n",
    "std_l = np.array([0.01, 0.01, 0.01, 0.01]) # nx, ny, nz, d"
   ]
  },
  {
   "cell_type": "code",
   "execution_count": 6,
   "metadata": {},
   "outputs": [
    {
     "name": "stdout",
     "output_type": "stream",
     "text": [
      "[ 0.707       0.707       0.          5.00075517 -0.707       0.707\n",
      "  0.          2.00030207]\n",
      "[ 0.          0.          0.          1.71279823  3.47314943  0.76856383\n",
      "  0.707       0.707       0.          5.00075517 -0.707       0.707\n",
      "  0.          2.00030207]\n",
      "(22, 14) (22,) (14,)\n"
     ]
    }
   ],
   "source": [
    "s_x0 = x0\n",
    "s_l = np.hstack([invert_measurement_l(x0, init_measurement1), invert_measurement_l(x0,init_measurement2)])\n",
    "print(s_l)\n",
    "s_x1 = np.hstack([x0, x0+odom1])\n",
    "\n",
    "s = np.hstack([s_x1, s_l])\n",
    "print(s)\n",
    "def generateAB(s_x1, s_l, odom1, landmark_measurements, std_x, std_l, dim_x=3, dim_l=4):\n",
    "    num_x = int(len(s_x1) / dim_x)\n",
    "    num_l = int(len(s_l) / dim_l)\n",
    "    num_l_measurements = int(len(landmark_measurements) / dim_l)\n",
    "    \n",
    "    std_p = np.array([0.05, 0.05, 0.001]) # x, y, theta prior\n",
    "    A_x1 = np.zeros((6,14))\n",
    "    A_x1[:3,:3] = np.eye(3) / np.sqrt(std_p.reshape(-1, 1))\n",
    "    odom_jac = odom_jacobian(s_x1[0:3], s_x1[3:6]) \n",
    "   # std_x_repeated = np.tile(std_x, 2)\n",
    "    A_x1[3:,:6] = odom_jac / np.sqrt(std_x.reshape(-1, 1))\n",
    "\n",
    "    A_l1 = np.zeros((16,14))\n",
    "    #measurement_jac1 = measurement_jacobian(s_x1[:3], s_l[:4])\n",
    "    measurement_jac1 = numeraical_jacobian(s_x1[:3], s_l[:4], measurement_model_w)\n",
    "    A_l1[:4,0:3] = measurement_jac1[:, 0:3] / np.sqrt(std_l.reshape(-1, 1))\n",
    "    A_l1[:4,6:10] = measurement_jac1[:, 3:7] / np.sqrt(std_l.reshape(-1, 1))\n",
    "    \n",
    "    #measurement_jac2 = measurement_jacobian(s_x1[:3], s_l[4:])\n",
    "    measurement_jac2 = numeraical_jacobian(s_x1[:3], s_l[4:], measurement_model_w)\n",
    "    A_l1[4:8,0:3] = measurement_jac2[:, 0:3] / np.sqrt(std_l.reshape(-1, 1))\n",
    "    A_l1[4:8,10:14] = measurement_jac2[:, 3:7] / np.sqrt(std_l.reshape(-1, 1))\n",
    "\n",
    "    #measurement_jac1 = measurement_jacobian(s_x1[3:], s_l[:4])\n",
    "    measurement_jac1 = numeraical_jacobian(s_x1[3:], s_l[:4], measurement_model_w)\n",
    "    A_l1[8:12,3:6] = measurement_jac1[:, 0:3] / np.sqrt(std_l.reshape(-1, 1)) \n",
    "    A_l1[8:12,6:10] = measurement_jac1[:, 3:7] / np.sqrt(std_l.reshape(-1, 1))\n",
    "    #measurement_jac2 = measurement_jacobian(s_x1[3:], s_l[4:])\n",
    "    measurement_jac2 = numeraical_jacobian(s_x1[3:], s_l[4:], measurement_model_w)\n",
    "    A_l1[12:16,3:6] = measurement_jac2[:, 0:3] / np.sqrt(std_l.reshape(-1, 1))\n",
    "    A_l1[12:16,10:14] = measurement_jac2[:, 3:7] / np.sqrt(std_l.reshape(-1, 1))\n",
    "\n",
    "    m_x1 = np.hstack([np.array([0,0,0]), odom1])\n",
    "    p_x1 = np.hstack([s_x1[:3], odom_model(s_x1[:3], s_x1[3:])])\n",
    "    std_x_repeated = np.tile(std_x, num_x - 1) \n",
    "    b_x1 = (m_x1 - p_x1) / np.sqrt(np.hstack([std_p, std_x_repeated]))\n",
    "\n",
    "    m_l1 = landmark_measurements\n",
    "    p_l1 = np.hstack([measurement_model_w(s_x1[:3], s_l[:4]), measurement_model_w(s_x1[:3], s_l[4:8]),\n",
    "                      measurement_model_w(s_x1[3:6], s_l[:4]), measurement_model_w(s_x1[3:6], s_l[4:8])])\n",
    "    std_l_repeated = np.tile(std_l, num_l_measurements)\n",
    "    b_l1 = (m_l1 - p_l1) / np.sqrt(std_l_repeated)\n",
    "\n",
    "    A = np.vstack([A_x1, A_l1])\n",
    "    b = np.hstack([b_x1, b_l1])\n",
    "    return A,b\n",
    "\n",
    "A,b = generateAB(s_x1, s_l, odom1, landmark_measurements, std_x, std_l)\n",
    "print(A.shape, b.shape, s.shape)"
   ]
  },
  {
   "cell_type": "code",
   "execution_count": 7,
   "metadata": {},
   "outputs": [],
   "source": [
    "def gauss_newton(s, odom1, landmark_measurements, std_x, std_l, max_iter=1000):\n",
    "    for i in range(max_iter):\n",
    "        s_x1 = s[:6]\n",
    "        s_l = s[6:]\n",
    "        A,b = generateAB(s_x1, s_l, odom1, landmark_measurements, std_x, std_l)\n",
    "        print(np.linalg.norm(b))\n",
    "        if(i == 1): \n",
    "            print(\"START ERROR: \", np.linalg.norm(b))\n",
    "        dx = scipy.linalg.solve(np.dot(A.T,A),np.dot(A.T,b))\n",
    "        s_new = s + dx\n",
    "        _,b_new = generateAB(s_new[:6], s_new[6:], odom1, landmark_measurements, std_x, std_l)\n",
    "        if(np.linalg.norm(b_new) > np.linalg.norm(b)):\n",
    "            print(\"Error going up - breaking\", i)\n",
    "            return s, np.linalg.norm(b)\n",
    "        s = s_new\n",
    "        if(np.linalg.norm(b_new - b) < 1e-12):\n",
    "            print(\"Converged\",i)\n",
    "            break\n",
    "    return s, np.linalg.norm(b_new)"
   ]
  },
  {
   "cell_type": "code",
   "execution_count": 8,
   "metadata": {},
   "outputs": [],
   "source": [
    "def lm(s, odom1, landmark_measurements, std_x, std_l, max_iter=1000):\n",
    "    lambda_lm = 10\n",
    "    \n",
    "    for i in range(max_iter):\n",
    "        s_x1 = s[:6]\n",
    "        s_l = s[6:]\n",
    "        A,b = generateAB(s_x1, s_l, odom1, landmark_measurements, std_x, std_l)\n",
    "        dx = scipy.linalg.solve(np.dot(A.T,A) + np.eye(A.shape[1]) * lambda_lm, np.dot(A.T,b))\n",
    "        s_new = s + dx\n",
    "        _,b_new = generateAB(s_new[:6], s_new[6:], odom1, landmark_measurements, std_x, std_l)\n",
    "        if(np.linalg.norm(b_new) > np.linalg.norm(b)):\n",
    "            lambda_lm *= 10\n",
    "            continue\n",
    "        else:\n",
    "            lambda_lm /= 10\n",
    "            s = s_new\n",
    "            \n",
    "        if(np.linalg.norm(b_new - b) < 1e-12):\n",
    "            print(\"Converged\",i)\n",
    "            break\n",
    "    return s, np.linalg.norm(b_new)"
   ]
  },
  {
   "cell_type": "code",
   "execution_count": 9,
   "metadata": {},
   "outputs": [
    {
     "name": "stdout",
     "output_type": "stream",
     "text": [
      "5.544787228587763\n",
      "0.525715608098841\n",
      "START ERROR:  0.525715608098841\n",
      "0.524745499627644\n",
      "0.5247454714314522\n",
      "0.5247454695112486\n",
      "Error going up - breaking 4\n",
      "Converged 47\n",
      "[ 0.    0.    0.    1.71  3.47  0.77  0.71  0.71  0.    5.   -0.71  0.71\n",
      "  0.    2.  ]\n",
      "[ 0.   -0.   -0.    1.96  3.04  0.78  0.7   0.71  0.    5.   -0.72  0.7\n",
      " -0.    2.  ]\n",
      "[-0.   -0.   -0.    1.96  3.04  0.78  0.7   0.71 -0.    5.   -0.72  0.7\n",
      " -0.    2.  ]\n",
      "[ 0.          0.          0.          2.          3.          0.78539816\n",
      "  0.707       0.707       0.          5.         -0.707       0.707\n",
      "  0.          2.        ]\n",
      "ACTUAL ERRORS: \n",
      "0.5247454695112486\n",
      "0.5247454691217376\n"
     ]
    }
   ],
   "source": [
    "out_g, err_g = gauss_newton(s, odom1, landmark_measurements, std_x, std_l)\n",
    "out_lm, err_lm = lm(s, odom1, landmark_measurements, std_x, std_l)\n",
    "print(np.round(s, 2))\n",
    "print(np.round(out_g,2))\n",
    "print(np.round(out_lm,2))\n",
    "print(gt)\n",
    "\n",
    "print(\"ACTUAL ERRORS: \")\n",
    "print(err_g)\n",
    "print(err_lm)"
   ]
  },
  {
   "cell_type": "code",
   "execution_count": 10,
   "metadata": {},
   "outputs": [
    {
     "name": "stdout",
     "output_type": "stream",
     "text": [
      "0.55375021619053 0.06350085991160292 0.06350521180923835\n"
     ]
    }
   ],
   "source": [
    "s_error = np.linalg.norm(gt-s)\n",
    "og_error = np.linalg.norm(gt-out_g)\n",
    "olm_error = np.linalg.norm(gt-out_lm)\n",
    "print(s_error, og_error, olm_error)"
   ]
  },
  {
   "cell_type": "code",
   "execution_count": 11,
   "metadata": {
    "scrolled": true
   },
   "outputs": [
    {
     "name": "stdout",
     "output_type": "stream",
     "text": [
      "[0.    0.    0.002 0.044 0.042 0.01 ]\n"
     ]
    }
   ],
   "source": [
    "print(np.round(abs(gt[:6]-out_g[:6]),3))"
   ]
  },
  {
   "cell_type": "code",
   "execution_count": 12,
   "metadata": {},
   "outputs": [
    {
     "name": "stdout",
     "output_type": "stream",
     "text": [
      "[0.    0.    0.002 0.044 0.042 0.01 ]\n"
     ]
    }
   ],
   "source": [
    "print(np.round(abs(gt[:6]-out_lm[:6]),3))"
   ]
  },
  {
   "cell_type": "code",
   "execution_count": 13,
   "metadata": {},
   "outputs": [
    {
     "name": "stdout",
     "output_type": "stream",
     "text": [
      "[0.    0.    0.    0.287 0.473 0.017]\n"
     ]
    }
   ],
   "source": [
    "print(np.round(abs(gt[:6]-s[:6]),3))"
   ]
  },
  {
   "cell_type": "code",
   "execution_count": 14,
   "metadata": {},
   "outputs": [
    {
     "name": "stdout",
     "output_type": "stream",
     "text": [
      "STATE!!!!\n",
      "              0             1         2         3         4         5\n",
      "0  0.000000e+00  0.000000e+00  0.000000  1.712798  3.473149  0.768564\n",
      "1  1.206290e-06 -3.446582e-06 -0.001584  1.956291  3.041839  0.775079\n",
      "2 -4.410141e-07 -8.389691e-07 -0.001584  1.956287  3.041842  0.775079\n",
      "3  0.000000e+00  0.000000e+00  0.000000  2.000000  3.000000  0.785398\n",
      "LANDMARKS!!!!\n",
      "          0         1             2         3         4         5  \\\n",
      "0  0.707000  0.707000  0.000000e+00  5.000755 -0.707000  0.707000   \n",
      "1  0.703145  0.710821  7.761628e-18  4.998557 -0.717074  0.696715   \n",
      "2  0.703145  0.710821 -2.231435e-07  4.998558 -0.717074  0.696715   \n",
      "3  0.707000  0.707000  0.000000e+00  5.000000 -0.707000  0.707000   \n",
      "\n",
      "              6         7  \n",
      "0  0.000000e+00  2.000302  \n",
      "1 -2.644669e-07  1.995149  \n",
      "2 -1.256889e-07  1.995147  \n",
      "3  0.000000e+00  2.000000  \n"
     ]
    }
   ],
   "source": [
    "import pandas as pd\n",
    "x_results_pd = pd.DataFrame(np.vstack([s[:6], out_g[:6], out_lm[:6], gt[:6]]))\n",
    "l_results_pd = pd.DataFrame(np.vstack([s[6:], out_g[6:], out_lm[6:], gt[6:]]))\n",
    "print(\"STATE!!!!\")\n",
    "print(x_results_pd)\n",
    "\n",
    "print(\"LANDMARKS!!!!\")\n",
    "print(l_results_pd)"
   ]
  },
  {
   "cell_type": "markdown",
   "metadata": {},
   "source": [
    "# TODO:\n",
    "--------------------------------------------\n",
    "- programatically create A and b (pipeline)\n",
    "- visualizations to show convergence or not (2d planes + our pose vs. gt)\n",
    "--------------------------------------------\n",
    "\n",
    "--------------------------------------------\n",
    "- keep points and stich points onto to the plane\n",
    "- visualize the point cloud\n",
    "--------------------------------------------\n",
    "\n",
    "--> point to plane error metric\n",
    "\n",
    "# Note: \n",
    "- make sure measurements are normalized planes\n",
    "- ensure theta std is lower"
   ]
  },
  {
   "cell_type": "code",
   "execution_count": null,
   "metadata": {},
   "outputs": [],
   "source": []
  }
 ],
 "metadata": {
  "kernelspec": {
   "display_name": "Python 3",
   "language": "python",
   "name": "python3"
  },
  "language_info": {
   "codemirror_mode": {
    "name": "ipython",
    "version": 3
   },
   "file_extension": ".py",
   "mimetype": "text/x-python",
   "name": "python",
   "nbconvert_exporter": "python",
   "pygments_lexer": "ipython3",
   "version": "3.6.5"
  }
 },
 "nbformat": 4,
 "nbformat_minor": 2
}
